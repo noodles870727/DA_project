{
 "cells": [
  {
   "cell_type": "code",
   "execution_count": 1,
   "metadata": {},
   "outputs": [],
   "source": [
    "import numpy as np\n",
    "from scipy.integrate import ode\n",
    "import matplotlib.pyplot as plt"
   ]
  },
  {
   "cell_type": "markdown",
   "metadata": {},
   "source": [
    "## Lorenz 96"
   ]
  },
  {
   "cell_type": "code",
   "execution_count": 2,
   "metadata": {},
   "outputs": [],
   "source": [
    "def f(t, y, F):\n",
    "    return (np.roll(y, -1) - np.roll(y, 2)) * np.roll(y, 1) - y + F"
   ]
  },
  {
   "cell_type": "markdown",
   "metadata": {},
   "source": [
    "## Settings"
   ]
  },
  {
   "cell_type": "code",
   "execution_count": 3,
   "metadata": {},
   "outputs": [],
   "source": [
    "# parameters\n",
    "N = 40              # number of grid point\n",
    "F = 8.0              # forcing term\n",
    "\n",
    "Tmax = 10.          # time length of the experiment\n",
    "dT = 0.05           # DA cycle length\n",
    "nT = int(Tmax / dT) # number of cycles\n"
   ]
  },
  {
   "cell_type": "markdown",
   "metadata": {},
   "source": [
    "## Nature run (no need to run again)"
   ]
  },
  {
   "cell_type": "code",
   "execution_count": 4,
   "metadata": {},
   "outputs": [],
   "source": [
    "# settings of spin-up\n",
    "sigma_x0 = 0.05  # size of initial perturpation\n",
    "Tspinup = 100.  # initial spin-up time\n",
    "\n",
    "# spin-up from a random initail value\n",
    "x_t_0 = sigma_x0 * np.random.randn(N)\n",
    "\n",
    "solver = ode(f).set_integrator('dopri5', nsteps=10000)\n",
    "solver.set_initial_value(x_t_0, 0.).set_f_params(F)\n",
    "solver.integrate(Tspinup)\n",
    "x_t_save = np.array([solver.y], dtype='f8')\n",
    "\n",
    "# create nature\n",
    "solver = ode(f).set_integrator('dopri5')\n",
    "solver.set_initial_value(x_t_save[0], 0.).set_f_params(F)\n",
    "\n",
    "tt = 1\n",
    "while solver.successful() and tt <= nT:\n",
    "    solver.integrate(solver.t + dT)\n",
    "    x_t_save = np.vstack([x_t_save, [solver.y]])\n",
    "#    print('timestep =', tt, round(solver.t, 10))\n",
    "    tt += 1\n",
    "\n",
    "# save data\n",
    "np.savetxt('x_t.txt', x_t_save)"
   ]
  },
  {
   "cell_type": "markdown",
   "metadata": {},
   "source": [
    "## Initial condition"
   ]
  },
  {
   "cell_type": "code",
   "execution_count": 5,
   "metadata": {},
   "outputs": [],
   "source": [
    "# settings of spin-up\n",
    "sigma_x0 = 0.1  # size of initial perturpation\n",
    "Tspinup = 100.  # initial spin-up time\n",
    "\n",
    "# spin-up from a random initail value\n",
    "x_a_0 = sigma_x0 * np.random.randn(N)\n",
    "\n",
    "solver = ode(f).set_integrator('dopri5', nsteps=10000)\n",
    "solver.set_initial_value(x_a_0, 0.).set_f_params(F)\n",
    "solver.integrate(Tspinup)\n",
    "x_a_init = np.array(solver.y, dtype='f8')\n",
    "\n",
    "# save the initial condition for DA experiment\n",
    "np.savetxt('x_a_init.txt', x_a_init)"
   ]
  },
  {
   "cell_type": "markdown",
   "metadata": {},
   "source": [
    "# Data Assmilation\n",
    "### settings"
   ]
  },
  {
   "cell_type": "code",
   "execution_count": 50,
   "metadata": {},
   "outputs": [
    {
     "data": {
      "image/png": "[encoded data removed]",
      "text/plain": [
       "<Figure size 576x576 with 3 Axes>"
      ]
     },
     "metadata": {
      "needs_background": "light"
     },
     "output_type": "display_data"
    }
   ],
   "source": [
    "# load initial condition\n",
    "x_a_init = np.genfromtxt('x_a_init.txt')\n",
    "#x_a_init = np.genfromtxt('x_t.txt')[0] + 1.e-4  # using nature run value plus a small error (for test purpose)\n",
    "# initial x_a: from x_a_init\n",
    "x_a_save = np.array([x_a_init])\n",
    "\n",
    "# load observations\n",
    "x_t = np.genfromtxt('x_t.txt')\n",
    "noise = np.random.normal(0, 0.5, x_t.shape)\n",
    "y_o_save = x_t + noise  ###  Add random normal errors to the values in the nature run to create (a complete set of) simulated (synthetic) observations.\n",
    "\n",
    "\n",
    "# initial x_b: no values at the initial time (assign NaN)\n",
    "x_b_save = np.full((1,N), np.nan, dtype='f8')\n",
    "\n",
    "## Check the observation error distribution and correlation\n",
    "#plt.scatter(y_o_save[:,0],y_o_save[:,1])\n",
    "e_1k = (y_o_save-x_t)[:,1]\n",
    "e_2k = (y_o_save-x_t)[:,2]\n",
    "\n",
    "# definitions for the axes\n",
    "left, width = 0.1, 0.65\n",
    "bottom, height = 0.1, 0.65\n",
    "spacing = 0.01\n",
    "\n",
    "rect_scatter = [left, bottom, width, height]\n",
    "rect_histx = [left, bottom + height + spacing, width, 0.2]\n",
    "rect_histy = [left + width + spacing, bottom, 0.2, height]\n",
    "\n",
    "# start with a rectangular Figure\n",
    "plt.figure(figsize=(8, 8))\n",
    "\n",
    "ax_scatter = plt.axes(rect_scatter)\n",
    "ax_scatter.tick_params(direction='in', top=True, right=True)\n",
    "ax_histx = plt.axes(rect_histx)\n",
    "ax_histx.tick_params(direction='in', labelbottom=False)\n",
    "ax_histy = plt.axes(rect_histy)\n",
    "ax_histy.tick_params(direction='in', labelleft=False)\n",
    "\n",
    "# the scatter plot:\n",
    "ax_scatter.scatter(e_1k, e_2k)\n",
    "\n",
    "# now determine nice limits by hand:\n",
    "binwidth = 0.1\n",
    "lim = np.ceil(np.abs([e_1k, e_2k]).max() / binwidth) * binwidth\n",
    "ax_scatter.set_xlim((-lim, lim))\n",
    "ax_scatter.set_ylim((-lim, lim))\n",
    "\n",
    "bins = np.arange(-lim, lim + binwidth, binwidth)\n",
    "ax_histx.hist(e_1k, bins=bins)\n",
    "ax_histy.hist(e_2k, bins=bins, orientation='horizontal')\n",
    "\n",
    "ax_histx.set_xlim(ax_scatter.get_xlim())\n",
    "ax_histy.set_ylim(ax_scatter.get_ylim())\n",
    "\n",
    "plt.show()\n"
   ]
  },
  {
   "cell_type": "markdown",
   "metadata": {},
   "source": [
    "## DA methods: OI"
   ]
  },
  {
   "cell_type": "code",
   "execution_count": 57,
   "metadata": {},
   "outputs": [
    {
     "name": "stdout",
     "output_type": "stream",
     "text": [
      "Cycle = 1 , Ts = 0.0 , Ta = 0.05\n",
      "1\n",
      "Cycle = 2 , Ts = 0.05 , Ta = 0.1\n",
      "Cycle = 3 , Ts = 0.1 , Ta = 0.15\n",
      "Cycle = 4 , Ts = 0.15 , Ta = 0.2\n",
      "Cycle = 5 , Ts = 0.2 , Ta = 0.25\n",
      "Cycle = 6 , Ts = 0.25 , Ta = 0.3\n",
      "Cycle = 7 , Ts = 0.3 , Ta = 0.35\n",
      "Cycle = 8 , Ts = 0.35 , Ta = 0.4\n",
      "Cycle = 9 , Ts = 0.4 , Ta = 0.45\n",
      "Cycle = 10 , Ts = 0.45 , Ta = 0.5\n",
      "Cycle = 11 , Ts = 0.5 , Ta = 0.55\n",
      "Cycle = 12 , Ts = 0.55 , Ta = 0.6\n",
      "Cycle = 13 , Ts = 0.6 , Ta = 0.65\n",
      "Cycle = 14 , Ts = 0.65 , Ta = 0.7\n",
      "Cycle = 15 , Ts = 0.7 , Ta = 0.75\n",
      "Cycle = 16 , Ts = 0.75 , Ta = 0.8\n",
      "Cycle = 17 , Ts = 0.8 , Ta = 0.85\n",
      "Cycle = 18 , Ts = 0.85 , Ta = 0.9\n",
      "Cycle = 19 , Ts = 0.9 , Ta = 0.95\n",
      "Cycle = 20 , Ts = 0.95 , Ta = 1.0\n",
      "Cycle = 21 , Ts = 1.0 , Ta = 1.05\n",
      "Cycle = 22 , Ts = 1.05 , Ta = 1.1\n",
      "Cycle = 23 , Ts = 1.1 , Ta = 1.15\n",
      "Cycle = 24 , Ts = 1.15 , Ta = 1.2\n",
      "Cycle = 25 , Ts = 1.2 , Ta = 1.25\n",
      "Cycle = 26 , Ts = 1.25 , Ta = 1.3\n",
      "Cycle = 27 , Ts = 1.3 , Ta = 1.35\n",
      "Cycle = 28 , Ts = 1.35 , Ta = 1.4\n",
      "Cycle = 29 , Ts = 1.4 , Ta = 1.45\n",
      "Cycle = 30 , Ts = 1.45 , Ta = 1.5\n",
      "Cycle = 31 , Ts = 1.5 , Ta = 1.55\n",
      "Cycle = 32 , Ts = 1.55 , Ta = 1.6\n",
      "Cycle = 33 , Ts = 1.6 , Ta = 1.65\n",
      "Cycle = 34 , Ts = 1.65 , Ta = 1.7\n",
      "Cycle = 35 , Ts = 1.7 , Ta = 1.75\n",
      "Cycle = 36 , Ts = 1.75 , Ta = 1.8\n",
      "Cycle = 37 , Ts = 1.8 , Ta = 1.85\n",
      "Cycle = 38 , Ts = 1.85 , Ta = 1.9\n",
      "Cycle = 39 , Ts = 1.9 , Ta = 1.95\n",
      "Cycle = 40 , Ts = 1.95 , Ta = 2.0\n",
      "Cycle = 41 , Ts = 2.0 , Ta = 2.05\n",
      "Cycle = 42 , Ts = 2.05 , Ta = 2.1\n",
      "Cycle = 43 , Ts = 2.1 , Ta = 2.15\n",
      "Cycle = 44 , Ts = 2.15 , Ta = 2.2\n",
      "Cycle = 45 , Ts = 2.2 , Ta = 2.25\n",
      "Cycle = 46 , Ts = 2.25 , Ta = 2.3\n",
      "Cycle = 47 , Ts = 2.3 , Ta = 2.35\n",
      "Cycle = 48 , Ts = 2.35 , Ta = 2.4\n",
      "Cycle = 49 , Ts = 2.4 , Ta = 2.45\n",
      "Cycle = 50 , Ts = 2.45 , Ta = 2.5\n",
      "Cycle = 51 , Ts = 2.5 , Ta = 2.55\n",
      "Cycle = 52 , Ts = 2.55 , Ta = 2.6\n",
      "Cycle = 53 , Ts = 2.6 , Ta = 2.65\n",
      "Cycle = 54 , Ts = 2.65 , Ta = 2.7\n",
      "Cycle = 55 , Ts = 2.7 , Ta = 2.75\n",
      "Cycle = 56 , Ts = 2.75 , Ta = 2.8\n",
      "Cycle = 57 , Ts = 2.8 , Ta = 2.85\n",
      "Cycle = 58 , Ts = 2.85 , Ta = 2.9\n",
      "Cycle = 59 , Ts = 2.9 , Ta = 2.95\n",
      "Cycle = 60 , Ts = 2.95 , Ta = 3.0\n",
      "Cycle = 61 , Ts = 3.0 , Ta = 3.05\n",
      "Cycle = 62 , Ts = 3.05 , Ta = 3.1\n",
      "Cycle = 63 , Ts = 3.1 , Ta = 3.15\n",
      "Cycle = 64 , Ts = 3.15 , Ta = 3.2\n",
      "Cycle = 65 , Ts = 3.2 , Ta = 3.25\n",
      "Cycle = 66 , Ts = 3.25 , Ta = 3.3\n",
      "Cycle = 67 , Ts = 3.3 , Ta = 3.35\n",
      "Cycle = 68 , Ts = 3.35 , Ta = 3.4\n",
      "Cycle = 69 , Ts = 3.4 , Ta = 3.45\n",
      "Cycle = 70 , Ts = 3.45 , Ta = 3.5\n",
      "Cycle = 71 , Ts = 3.5 , Ta = 3.55\n",
      "Cycle = 72 , Ts = 3.55 , Ta = 3.6\n",
      "Cycle = 73 , Ts = 3.6 , Ta = 3.65\n",
      "Cycle = 74 , Ts = 3.65 , Ta = 3.7\n",
      "Cycle = 75 , Ts = 3.7 , Ta = 3.75\n",
      "Cycle = 76 , Ts = 3.75 , Ta = 3.8\n",
      "Cycle = 77 , Ts = 3.8 , Ta = 3.85\n",
      "Cycle = 78 , Ts = 3.85 , Ta = 3.9\n",
      "Cycle = 79 , Ts = 3.9 , Ta = 3.95\n",
      "Cycle = 80 , Ts = 3.95 , Ta = 4.0\n",
      "Cycle = 81 , Ts = 4.0 , Ta = 4.05\n",
      "Cycle = 82 , Ts = 4.05 , Ta = 4.1\n",
      "Cycle = 83 , Ts = 4.1 , Ta = 4.15\n",
      "Cycle = 84 , Ts = 4.15 , Ta = 4.2\n",
      "Cycle = 85 , Ts = 4.2 , Ta = 4.25\n",
      "Cycle = 86 , Ts = 4.25 , Ta = 4.3\n",
      "Cycle = 87 , Ts = 4.3 , Ta = 4.35\n",
      "Cycle = 88 , Ts = 4.35 , Ta = 4.4\n",
      "Cycle = 89 , Ts = 4.4 , Ta = 4.45\n",
      "Cycle = 90 , Ts = 4.45 , Ta = 4.5\n",
      "Cycle = 91 , Ts = 4.5 , Ta = 4.55\n",
      "Cycle = 92 , Ts = 4.55 , Ta = 4.6\n",
      "Cycle = 93 , Ts = 4.6 , Ta = 4.65\n",
      "Cycle = 94 , Ts = 4.65 , Ta = 4.7\n",
      "Cycle = 95 , Ts = 4.7 , Ta = 4.75\n",
      "Cycle = 96 , Ts = 4.75 , Ta = 4.8\n",
      "Cycle = 97 , Ts = 4.8 , Ta = 4.85\n",
      "Cycle = 98 , Ts = 4.85 , Ta = 4.9\n",
      "Cycle = 99 , Ts = 4.9 , Ta = 4.95\n",
      "Cycle = 100 , Ts = 4.95 , Ta = 5.0\n",
      "Cycle = 101 , Ts = 5.0 , Ta = 5.05\n",
      "Cycle = 102 , Ts = 5.05 , Ta = 5.1\n",
      "Cycle = 103 , Ts = 5.1 , Ta = 5.15\n",
      "Cycle = 104 , Ts = 5.15 , Ta = 5.2\n",
      "Cycle = 105 , Ts = 5.2 , Ta = 5.25\n",
      "Cycle = 106 , Ts = 5.25 , Ta = 5.3\n",
      "Cycle = 107 , Ts = 5.3 , Ta = 5.35\n",
      "Cycle = 108 , Ts = 5.35 , Ta = 5.4\n",
      "Cycle = 109 , Ts = 5.4 , Ta = 5.45\n",
      "Cycle = 110 , Ts = 5.45 , Ta = 5.5\n",
      "Cycle = 111 , Ts = 5.5 , Ta = 5.55\n",
      "Cycle = 112 , Ts = 5.55 , Ta = 5.6\n",
      "Cycle = 113 , Ts = 5.6 , Ta = 5.65\n",
      "Cycle = 114 , Ts = 5.65 , Ta = 5.7\n",
      "Cycle = 115 , Ts = 5.7 , Ta = 5.75\n",
      "Cycle = 116 , Ts = 5.75 , Ta = 5.8\n",
      "Cycle = 117 , Ts = 5.8 , Ta = 5.85\n",
      "Cycle = 118 , Ts = 5.85 , Ta = 5.9\n",
      "Cycle = 119 , Ts = 5.9 , Ta = 5.95\n",
      "Cycle = 120 , Ts = 5.95 , Ta = 6.0\n",
      "Cycle = 121 , Ts = 6.0 , Ta = 6.05\n",
      "Cycle = 122 , Ts = 6.05 , Ta = 6.1\n",
      "Cycle = 123 , Ts = 6.1 , Ta = 6.15\n",
      "Cycle = 124 , Ts = 6.15 , Ta = 6.2\n",
      "Cycle = 125 , Ts = 6.2 , Ta = 6.25\n",
      "Cycle = 126 , Ts = 6.25 , Ta = 6.3\n",
      "Cycle = 127 , Ts = 6.3 , Ta = 6.35\n",
      "Cycle = 128 , Ts = 6.35 , Ta = 6.4\n",
      "Cycle = 129 , Ts = 6.4 , Ta = 6.45\n",
      "Cycle = 130 , Ts = 6.45 , Ta = 6.5\n",
      "Cycle = 131 , Ts = 6.5 , Ta = 6.55\n",
      "Cycle = 132 , Ts = 6.55 , Ta = 6.6\n",
      "Cycle = 133 , Ts = 6.6 , Ta = 6.65\n",
      "Cycle = 134 , Ts = 6.65 , Ta = 6.7\n",
      "Cycle = 135 , Ts = 6.7 , Ta = 6.75\n",
      "Cycle = 136 , Ts = 6.75 , Ta = 6.8\n",
      "Cycle = 137 , Ts = 6.8 , Ta = 6.85\n",
      "Cycle = 138 , Ts = 6.85 , Ta = 6.9\n",
      "Cycle = 139 , Ts = 6.9 , Ta = 6.95\n",
      "Cycle = 140 , Ts = 6.95 , Ta = 7.0\n",
      "Cycle = 141 , Ts = 7.0 , Ta = 7.05\n",
      "Cycle = 142 , Ts = 7.05 , Ta = 7.1\n",
      "Cycle = 143 , Ts = 7.1 , Ta = 7.15\n",
      "Cycle = 144 , Ts = 7.15 , Ta = 7.2\n",
      "Cycle = 145 , Ts = 7.2 , Ta = 7.25\n",
      "Cycle = 146 , Ts = 7.25 , Ta = 7.3\n",
      "Cycle = 147 , Ts = 7.3 , Ta = 7.35\n",
      "Cycle = 148 , Ts = 7.35 , Ta = 7.4\n",
      "Cycle = 149 , Ts = 7.4 , Ta = 7.45\n",
      "Cycle = 150 , Ts = 7.45 , Ta = 7.5\n",
      "Cycle = 151 , Ts = 7.5 , Ta = 7.55\n",
      "Cycle = 152 , Ts = 7.55 , Ta = 7.6\n",
      "Cycle = 153 , Ts = 7.6 , Ta = 7.65\n",
      "Cycle = 154 , Ts = 7.65 , Ta = 7.7\n",
      "Cycle = 155 , Ts = 7.7 , Ta = 7.75\n",
      "Cycle = 156 , Ts = 7.75 , Ta = 7.8\n",
      "Cycle = 157 , Ts = 7.8 , Ta = 7.85\n",
      "Cycle = 158 , Ts = 7.85 , Ta = 7.9\n",
      "Cycle = 159 , Ts = 7.9 , Ta = 7.95\n",
      "Cycle = 160 , Ts = 7.95 , Ta = 8.0\n",
      "Cycle = 161 , Ts = 8.0 , Ta = 8.05\n",
      "Cycle = 162 , Ts = 8.05 , Ta = 8.1\n",
      "Cycle = 163 , Ts = 8.1 , Ta = 8.15\n",
      "Cycle = 164 , Ts = 8.15 , Ta = 8.2\n",
      "Cycle = 165 , Ts = 8.2 , Ta = 8.25\n",
      "Cycle = 166 , Ts = 8.25 , Ta = 8.3\n",
      "Cycle = 167 , Ts = 8.3 , Ta = 8.35\n",
      "Cycle = 168 , Ts = 8.35 , Ta = 8.4\n",
      "Cycle = 169 , Ts = 8.4 , Ta = 8.45\n",
      "Cycle = 170 , Ts = 8.45 , Ta = 8.5\n",
      "Cycle = 171 , Ts = 8.5 , Ta = 8.55\n",
      "Cycle = 172 , Ts = 8.55 , Ta = 8.6\n",
      "Cycle = 173 , Ts = 8.6 , Ta = 8.65\n",
      "Cycle = 174 , Ts = 8.65 , Ta = 8.7\n",
      "Cycle = 175 , Ts = 8.7 , Ta = 8.75\n",
      "Cycle = 176 , Ts = 8.75 , Ta = 8.8\n",
      "Cycle = 177 , Ts = 8.8 , Ta = 8.85\n",
      "Cycle = 178 , Ts = 8.85 , Ta = 8.9\n",
      "Cycle = 179 , Ts = 8.9 , Ta = 8.95\n",
      "Cycle = 180 , Ts = 8.95 , Ta = 9.0\n",
      "Cycle = 181 , Ts = 9.0 , Ta = 9.05\n",
      "Cycle = 182 , Ts = 9.05 , Ta = 9.1\n",
      "Cycle = 183 , Ts = 9.1 , Ta = 9.15\n",
      "Cycle = 184 , Ts = 9.15 , Ta = 9.2\n",
      "Cycle = 185 , Ts = 9.2 , Ta = 9.25\n",
      "Cycle = 186 , Ts = 9.25 , Ta = 9.3\n",
      "Cycle = 187 , Ts = 9.3 , Ta = 9.35\n",
      "Cycle = 188 , Ts = 9.35 , Ta = 9.4\n",
      "Cycle = 189 , Ts = 9.4 , Ta = 9.45\n",
      "Cycle = 190 , Ts = 9.45 , Ta = 9.5\n",
      "Cycle = 191 , Ts = 9.5 , Ta = 9.55\n",
      "Cycle = 192 , Ts = 9.55 , Ta = 9.6\n",
      "Cycle = 193 , Ts = 9.6 , Ta = 9.65\n",
      "Cycle = 194 , Ts = 9.65 , Ta = 9.7\n",
      "Cycle = 195 , Ts = 9.7 , Ta = 9.75\n",
      "Cycle = 196 , Ts = 9.75 , Ta = 9.8\n",
      "Cycle = 197 , Ts = 9.8 , Ta = 9.85\n",
      "Cycle = 198 , Ts = 9.85 , Ta = 9.9\n",
      "Cycle = 199 , Ts = 9.9 , Ta = 9.95\n",
      "Cycle = 200 , Ts = 9.95 , Ta = 10.0\n"
     ]
    }
   ],
   "source": [
    "tt = 1\n",
    "while tt <= nT:\n",
    "    tts = tt - 1\n",
    "    Ts = tts * dT  # forecast start time\n",
    "    Ta = tt  * dT  # forecast end time (DA analysis time)\n",
    "    print('Cycle =', tt, ', Ts =', round(Ts, 10), ', Ta =', round(Ta, 10))\n",
    "\n",
    "    #--------------\n",
    "    # forecast step\n",
    "    #--------------\n",
    "\n",
    "    solver = ode(f).set_integrator('dopri5')\n",
    "    solver.set_initial_value(x_a_save[tts], Ts).set_f_params(F)\n",
    "    solver.integrate(Ta)\n",
    "    x_b_save = np.vstack([x_b_save, [solver.y]])\n",
    "\n",
    "    #--------------\n",
    "    # analysis step\n",
    "    #--------------\n",
    "\n",
    "    # background\n",
    "    x_b = x_b_save[tt].transpose()\n",
    "\n",
    "    # observation\n",
    "    y_o = y_o_save[tt].transpose()\n",
    "\n",
    "    # innovation\n",
    "    H = np.eye(N)\n",
    "    y_b = np.dot(H, x_b) ## background on observation domain\n",
    "    d = y_o - y_b\n",
    "    \n",
    "    # observation error\n",
    "    e_o = np.var(noise, axis=0)\n",
    "    R = np.diag(e_o)\n",
    "    #print(R)\n",
    "    # background error\n",
    "    if tt == 1:\n",
    "        P = R\n",
    "        e_b = y_b - np.dot(H, x_t[tt].transpose())\n",
    "    \n",
    "    ### NMC method\n",
    "    K = P.dot(H.T).dot(np.linalg.inv(H.dot(P).dot(H.T)+R))\n",
    "    A = (np.eye(N)-K.dot(H)).dot(P)\n",
    "    x_a = x_b + K.dot(y_o-H.dot(x_b))\n",
    "    \n",
    "    ## extend forecast\n",
    "    P1 = A\n",
    "    K1 = P1.dot(H.T).dot(np.linalg.inv(H.dot(P1).dot(H.T)+R))\n",
    "    A1 = (np.eye(N)-K1.dot(H)).dot(P1)\n",
    "    x_a1 = x_b + K1.dot(y_o-H.dot(x_b))\n",
    "    \n",
    "    if tt>1:\n",
    "        alpha = 0.5\n",
    "        x_p = x_a2-x_a1\n",
    "        p_d = np.ones(20)\n",
    "        for i in range(20):\n",
    "            tmp = []\n",
    "            for j in range(N):\n",
    "                tmp.append(x_p[j-i]*x_p[j]) \n",
    "            p_d[i] =  np.mean(tmp) \n",
    "        for k in range(N):\n",
    "            P[k-i,k] = alpha*p_d[i]\n",
    "            P[k-39+i,k] = alpha*p_d[i]\n",
    "    else:\n",
    "        print(tt)\n",
    "    P2 = A1\n",
    "    K2 = P2.dot(H.T).dot(np.linalg.inv(H.dot(P2).dot(H.T)+R))\n",
    "    A2 = (np.eye(N)-K2.dot(H)).dot(P2)\n",
    "    x_a2 = x_b + K2.dot(y_o-H.dot(x_b))\n",
    "    ### NMC end\n",
    "\n",
    "    x_a_save = np.vstack([x_a_save, x_a.transpose()])\n",
    "    tt += 1\n",
    "\n",
    "# save background and analysis data\n",
    "np.savetxt('x_b.txt', x_b_save)\n",
    "np.savetxt('x_a.txt', x_a_save)\n"
   ]
  },
  {
   "cell_type": "markdown",
   "metadata": {},
   "source": [
    "## Plot result"
   ]
  },
  {
   "cell_type": "code",
   "execution_count": 53,
   "metadata": {},
   "outputs": [
    {
     "data": {
      "image/png": "[encoded data removed]",
      "text/plain": [
       "<Figure size 576x432 with 1 Axes>"
      ]
     },
     "metadata": {
      "needs_background": "light"
     },
     "output_type": "display_data"
    }
   ],
   "source": [
    "# load data\n",
    "x_t_save = np.genfromtxt('x_t.txt')\n",
    "x_b_save = np.genfromtxt('x_b.txt')\n",
    "x_a_save = np.genfromtxt('x_a.txt')\n",
    "\n",
    "# Plot time series of a single grid point\n",
    "pt = 1\n",
    "fig , ax = plt.subplots(figsize=(8,6))\n",
    "plt.plot(np.arange(nT+1) * dT, x_t_save[:,pt-1], 'k+--', label=r'$x^t_{' + str(pt) + '}$',linewidth = 3)\n",
    "plt.plot(np.arange(nT+1) * dT, x_b_save[:,pt-1], 'go-' , label=r'$x^b_{' + str(pt) + '}$')\n",
    "plt.plot(np.arange(nT+1) * dT, x_a_save[:,pt-1], 'bo-' , label=r'$x^a_{' + str(pt) + '}$')\n",
    "#print(x_a_save[:,pt-1])\n",
    "plt.xlabel(r'$t$', size=18)\n",
    "plt.ylabel(r'$x$', size=18)\n",
    "plt.title(r'Time series of $x_{' + str(pt) + '}$', size=20)\n",
    "plt.legend(loc='upper right', numpoints=1, prop={'size':18})\n",
    "plt.savefig('timeseries.png', dpi=200)\n",
    "plt.show()\n"
   ]
  },
  {
   "cell_type": "code",
   "execution_count": 45,
   "metadata": {},
   "outputs": [
    {
     "name": "stdout",
     "output_type": "stream",
     "text": [
      "[24.217959    5.75316665  1.38145437  0.3609642   0.1675104   0.13749657\n",
      "  0.11495224  0.14822197  0.08880308  0.0734319   0.12107502  0.1052692\n",
      "  0.0849983   0.10694622  0.08310483  0.07379969  0.05794855  0.07761003\n",
      "  0.06247325  0.06675437  0.06042284  0.07373541  0.09511094  0.07216771\n",
      "  0.10655213  0.11459384  0.08172969  0.06329949  0.0664172   0.09383299\n",
      "  0.07298714  0.10953661  0.10296988  0.10031968  0.11641319  0.10825969\n",
      "  0.16664074  0.17069549  0.12420775  0.12172648  0.12620992  0.10583983\n",
      "  0.07483349  0.07719882  0.08231333  0.06530658  0.07735564  0.08669194\n",
      "  0.05964376  0.10537074  0.05312242  0.0844829   0.09672705  0.09608161\n",
      "  0.07711198  0.10315795  0.07335938  0.09397826  0.08655426  0.07973139\n",
      "  0.07365446  0.13580083  0.08900484  0.10651818  0.08906489  0.10081901\n",
      "  0.08246018  0.0673454   0.098174    0.11501536  0.05830941  0.0829701\n",
      "  0.07943829  0.07903655  0.0840104   0.16551951  0.15695607  0.17497435\n",
      "  0.31533992  0.25893171  0.14805434  0.1170872   0.10276018  0.09500307\n",
      "  0.07985761  0.09691506  0.07472503  0.07371271  0.07697807  0.09532843\n",
      "  0.07303219  0.09792116  0.0914223   0.09505602  0.11001969  0.10585055\n",
      "  0.10223096  0.09276654  0.08839463  0.08328123  0.07725298  0.08995021\n",
      "  0.12727821  0.11351224  0.10257949  0.12547353  0.11022231  0.08776235\n",
      "  0.08181215  0.06500726  0.063957    0.10073012  0.08545061  0.12595349\n",
      "  0.11385946  0.06786316  0.10606462  0.09704326  0.09920466  0.06345293\n",
      "  0.07570763  0.08031835  0.08784425  0.08247998  0.12003433  0.07606317\n",
      "  0.08206328  0.06827477  0.08322388  0.06071563  0.10951576  0.08512466\n",
      "  0.09377679  0.10550601  0.08049     0.08698645  0.09525277  0.07077843\n",
      "  0.12179815  0.09932605  0.08097707  0.08991622  0.06658527  0.06759453\n",
      "  0.07217068  0.0858339   0.07547148  0.09160098  0.09463097  0.07235804\n",
      "  0.07452944  0.09182869  0.083048    0.10396406  0.10958397  0.10098898\n",
      "  0.06218252  0.05504089  0.05024695  0.05845875  0.14407598  0.09511835\n",
      "  0.0754264   0.08657964  0.10716297  0.08793499  0.07629615  0.0964238\n",
      "  0.09409958  0.08661683  0.07717405  0.0813229   0.07006996  0.06808643\n",
      "  0.08251553  0.08512047  0.06287669  0.09447438  0.11034361  0.06366021\n",
      "  0.08129641  0.08765713  0.05468185  0.06803988  0.07317181  0.09475165\n",
      "  0.04680146  0.08519947  0.06804829  0.08893222  0.06572347  0.07845105\n",
      "  0.07692973  0.07017761  0.09476642  0.10787909  0.12338875  0.08524447\n",
      "  0.05936513  0.06090391  0.04747151]\n"
     ]
    }
   ],
   "source": [
    "from sklearn.metrics import mean_squared_error\n",
    "pt = 1\n",
    "RMSE_1 = mean_squared_error(x_a_save.T,x_t_save.T, multioutput='raw_values')\n",
    "#RMSE_1 = mean_squared_error(x_a_save[1,:],x_t_save[1,:])\n",
    "print(RMSE_1)"
   ]
  },
  {
   "cell_type": "code",
   "execution_count": 55,
   "metadata": {},
   "outputs": [
    {
     "data": {
      "text/plain": [
       "[<matplotlib.lines.Line2D at 0x7f60f6589908>]"
      ]
     },
     "execution_count": 55,
     "metadata": {},
     "output_type": "execute_result"
    },
    {
     "data": {
      "image/png": "[encoded data removed]",
      "text/plain": [
       "<Figure size 432x288 with 1 Axes>"
      ]
     },
     "metadata": {
      "needs_background": "light"
     },
     "output_type": "display_data"
    }
   ],
   "source": [
    "plt.plot(np.arange(nT+1) * dT,RMSE_1)"
   ]
  },
  {
   "cell_type": "code",
   "execution_count": null,
   "metadata": {},
   "outputs": [],
   "source": []
  }
 ],
 "metadata": {
  "kernelspec": {
   "display_name": "Python 3",
   "language": "python",
   "name": "python3"
  },
  "language_info": {
   "codemirror_mode": {
    "name": "ipython",
    "version": 3
   },
   "file_extension": ".py",
   "mimetype": "text/x-python",
   "name": "python",
   "nbconvert_exporter": "python",
   "pygments_lexer": "ipython3",
   "version": "3.7.3"
  },
  "varInspector": {
   "cols": {
    "lenName": 16,
    "lenType": 16,
    "lenVar": 40
   },
   "kernels_config": {
    "python": {
     "delete_cmd_postfix": "",
     "delete_cmd_prefix": "del ",
     "library": "var_list.py",
     "varRefreshCmd": "print(var_dic_list())"
    },
    "r": {
     "delete_cmd_postfix": ") ",
     "delete_cmd_prefix": "rm(",
     "library": "var_list.r",
     "varRefreshCmd": "cat(var_dic_list()) "
    }
   },
   "oldHeight": 500,
   "position": {
    "height": "40px",
    "left": "1099px",
    "right": "20px",
    "top": "170px",
    "width": "474px"
   },
   "types_to_exclude": [
    "module",
    "function",
    "builtin_function_or_method",
    "instance",
    "_Feature"
   ],
   "varInspector_section_display": "none",
   "window_display": true
  }
 },
 "nbformat": 4,
 "nbformat_minor": 2
}
